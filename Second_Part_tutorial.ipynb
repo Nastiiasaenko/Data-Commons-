{
  "nbformat": 4,
  "nbformat_minor": 0,
  "metadata": {
    "colab": {
      "provenance": [],
      "authorship_tag": "ABX9TyNwq7OYBwnu8c46aI58iAIY",
      "include_colab_link": true
    },
    "kernelspec": {
      "name": "python3",
      "display_name": "Python 3"
    },
    "language_info": {
      "name": "python"
    }
  },
  "cells": [
    {
      "cell_type": "markdown",
      "metadata": {
        "id": "view-in-github",
        "colab_type": "text"
      },
      "source": [
        "<a href=\"https://colab.research.google.com/github/Nastiiasaenko/Data-Commons-/blob/main/Second_Part_tutorial.ipynb\" target=\"_parent\"><img src=\"https://colab.research.google.com/assets/colab-badge.svg\" alt=\"Open In Colab\"/></a>"
      ]
    },
    {
      "cell_type": "markdown",
      "source": [
        "**Part 2: Visualizing the emissions dataset.**\n",
        "\n",
        "In this part of the tutorial, we show how to use the DataCommons API to construct a dataset of US states and their emissions data. We utilize the graph data structure of the DataCommons database to construct a dataset where each state will be linked to the other via the \"nearby\" places property of each state (node)."
      ],
      "metadata": {
        "id": "hnu49WSoU6d5"
      }
    },
    {
      "cell_type": "markdown",
      "source": [
        "Imports:"
      ],
      "metadata": {
        "id": "yC6WV4VzV3wL"
      }
    },
    {
      "cell_type": "code",
      "execution_count": null,
      "metadata": {
        "colab": {
          "base_uri": "https://localhost:8080/"
        },
        "id": "ylbreqG-U6H3",
        "outputId": "67205dcc-d93b-4cda-e403-f30ab37b85d2"
      },
      "outputs": [
        {
          "output_type": "stream",
          "name": "stdout",
          "text": [
            "Collecting datacommons\n",
            "  Downloading datacommons-1.4.3-py3-none-any.whl.metadata (4.6 kB)\n",
            "Requirement already satisfied: six in /usr/local/lib/python3.10/dist-packages (from datacommons) (1.16.0)\n",
            "Downloading datacommons-1.4.3-py3-none-any.whl (46 kB)\n",
            "\u001b[2K   \u001b[90m━━━━━━━━━━━━━━━━━━━━━━━━━━━━━━━━━━━━━━━━\u001b[0m \u001b[32m46.5/46.5 kB\u001b[0m \u001b[31m722.5 kB/s\u001b[0m eta \u001b[36m0:00:00\u001b[0m\n",
            "\u001b[?25hInstalling collected packages: datacommons\n",
            "Successfully installed datacommons-1.4.3\n"
          ]
        }
      ],
      "source": [
        "#!pip install datacommons\n",
        "import datacommons\n",
        "import pandas as pd"
      ]
    },
    {
      "cell_type": "markdown",
      "source": [
        "* We will start by constructing a dataset for all US states that will be cross-referenced via nearby places property"
      ],
      "metadata": {
        "id": "472dqsYuWQJ5"
      }
    },
    {
      "cell_type": "code",
      "source": [
        "# Getting US-states dcid (geo-id in case of states)\n",
        "states = datacommons.get_places_in(['country/USA'],place_type='State')\n",
        "states_list = states['country/USA']"
      ],
      "metadata": {
        "id": "cIk4eNirV9Kl"
      },
      "execution_count": null,
      "outputs": []
    },
    {
      "cell_type": "code",
      "source": [
        "## list of needed variables for each state\n",
        "variables_list = [\n",
        "    'Count_Person',\n",
        "    'Annual_Emissions_CarbonDioxide_Biogenic',\n",
        "    'Annual_Emissions_NitrousOxide_NonBiogenic',\n",
        "    'Annual_Emissions_Methane_NonBiogenic',\n",
        "    'Annual_Emissions_CarbonDioxide_NonBiogenic'\n",
        "]"
      ],
      "metadata": {
        "id": "J3Ya8nSsWbiS"
      },
      "execution_count": null,
      "outputs": []
    },
    {
      "cell_type": "code",
      "source": [
        "# For each state we are going to\n",
        "# 1. Get statistical variables\n",
        "# 2. Get property values for geo-coordinates and nearby places\n",
        "\n",
        "## GET states name in a single dataset\n",
        "names = datacommons.get_property_values(states_list, 'name')\n",
        "nearby_places = datacommons.get_property_values(states_list, 'nearbyPlaces')\n",
        "lat = datacommons.get_property_values(states_list, 'latitude')\n",
        "lon = datacommons.get_property_values(states_list, 'longitude')"
      ],
      "metadata": {
        "id": "eWn14BD3Wjux"
      },
      "execution_count": null,
      "outputs": []
    },
    {
      "cell_type": "code",
      "source": [
        "## now for each state we will get a timeseries of statistical variables that we chose earlier\n",
        "data = []\n",
        "\n",
        "for state in states_list:\n",
        "    for var in variables_list:\n",
        "        try:\n",
        "            stat_series = datacommons.get_stat_series(state, var)\n",
        "            for year, value in stat_series.items():\n",
        "                data.append({'State': state, 'Year': year, 'Variable': var, 'Value': value})\n",
        "        except Exception as e:\n",
        "            print(f\"Error fetching data for {state} and {var}: {e}\")\n"
      ],
      "metadata": {
        "id": "l5MM1TDAWmCN"
      },
      "execution_count": null,
      "outputs": []
    },
    {
      "cell_type": "markdown",
      "source": [
        "Constructing a final dataset:"
      ],
      "metadata": {
        "id": "TdTHy526W0RT"
      }
    },
    {
      "cell_type": "code",
      "source": [
        "df = pd.DataFrame(data)"
      ],
      "metadata": {
        "id": "u9KLRyDJW15n"
      },
      "execution_count": null,
      "outputs": []
    },
    {
      "cell_type": "code",
      "source": [
        " df_pivot = df.pivot_table(index=['State', 'Year'], columns='Variable', values='Value').reset_index()"
      ],
      "metadata": {
        "id": "donMUzaPW2QU"
      },
      "execution_count": null,
      "outputs": []
    },
    {
      "cell_type": "code",
      "source": [
        "## adding in static information\n",
        "df_pivot['Name'] = df_pivot['State'].map(names)\n",
        "df_pivot['Nearby_Places'] = df_pivot['State'].map(nearby_places)\n",
        "df_pivot['Lat'] = df_pivot['State'].map(lat)\n",
        "df_pivot['Lon'] = df_pivot['State'].map(lon)"
      ],
      "metadata": {
        "id": "7CIvvwbBW5lH"
      },
      "execution_count": null,
      "outputs": []
    },
    {
      "cell_type": "code",
      "source": [
        "## heating and cooling degree day data set\n",
        "def degree_day_df(dcid):\n",
        "    \"\"\"calls mean temperature for state and caluclates the cdd and hdd\n",
        "    per year per month \"\"\"\n",
        "    mean_temps=datacommons.get_stat_series(dcid,\"Mean_Temperature\" )\n",
        "    base_temperature = 18.3\n",
        "    years = []\n",
        "    month_names = []\n",
        "    month_numbers = []\n",
        "    hdd_values = []\n",
        "    cdd_values = []\n",
        "\n",
        "    for month_year, mean_temp in mean_temps.items():\n",
        "        year = month_year[:4]\n",
        "        month_name = pd.to_datetime(month_year, format='%Y-%m').strftime('%B')\n",
        "        month_number = month_year[5:]\n",
        "\n",
        "        # Calculate CDD and HDD\n",
        "        cdd = max(mean_temp - base_temperature, 0)\n",
        "        hdd = max(base_temperature - mean_temp, 0)\n",
        "\n",
        "        years.append(int(year))\n",
        "        month_names.append(month_name)\n",
        "        month_numbers.append(int(month_number))\n",
        "        hdd_values.append(hdd)\n",
        "        cdd_values.append(cdd)\n",
        "\n",
        "    df_degree_day = pd.DataFrame({\n",
        "        'year': years,\n",
        "        'month_name': month_names,\n",
        "        'month_number': month_numbers,\n",
        "        'HDD': hdd_values,\n",
        "        'CDD': cdd_values\n",
        "    })\n",
        "    df_degree_day['State']=dcid\n",
        "    df_degree_day=df_degree_day.sort_values(by=['year', 'month_number'])\n",
        "    return df_degree_day\n",
        "\n",
        "HCC_CDD_df=pd.DataFrame()\n",
        "\n",
        "for s in states_list:\n",
        "  temp_df =degree_day_df(s)\n",
        "  HCC_CDD_df=pd.concat([HCC_CDD_df,temp_df])\n",
        "\n",
        "\n",
        "HCC_CDD_df['Name'] = HCC_CDD_df['State'].map(names)\n"
      ],
      "metadata": {
        "id": "0mP9FR6kXC6B"
      },
      "execution_count": null,
      "outputs": []
    },
    {
      "cell_type": "code",
      "source": [
        "# vehicle dataset\n",
        "vehicles_variable_list=['Count_Household_With0AvailableVehicles',\n",
        "'Count_Household_With1AvailableVehicles',\n",
        "'Count_Household_With2AvailableVehicles',\n",
        "'Count_Household_With3AvailableVehicles',\n",
        "'Count_Household_With4OrMoreAvailableVehicles',\n",
        "'Count_Household_With4OrMorePerson_With0AvailableVehicles',\n",
        "'Count_Household_With4OrMorePerson_With1AvailableVehicles',\n",
        "'Count_Household_With4OrMorePerson_With2AvailableVehicles',\n",
        "'Count_Household_With4OrMorePerson_With3AvailableVehicles',\n",
        "'Count_Household_With4OrMorePerson_With4OrMoreAvailableVehicles',\n",
        "'Count_Household_With1Person_With2AvailableVehicles',\n",
        "'Count_Household_With1Person_With3AvailableVehicles',\n",
        "'Count_Household_With1Person_With4OrMoreAvailableVehicles',\n",
        "'Count_Household_With2Person_With0AvailableVehicles',\n",
        "'Count_Household_With2Person_With1AvailableVehicles',\n",
        "'Count_Household_With2Person_With2AvailableVehicles',\n",
        "'Count_Household_With2Person_With3AvailableVehicles',\n",
        "'Count_Household_With2Person_With4OrMoreAvailableVehicles',\n",
        "'Count_Household_With3Person_With0AvailableVehicles',\n",
        "'Count_Household_With3Person_With1AvailableVehicles',\n",
        "'Count_Household_With3Person_With2AvailableVehicles',\n",
        "'Count_Household_With3Person_With3AvailableVehicles',\n",
        "'Count_Household_With3Person_With4OrMoreAvailableVehicles']\n",
        "\n",
        "\n",
        "# get time series of vehicles\n",
        "vehicles_data = []\n",
        "\n",
        "for state in states_list:\n",
        "    for var in vehicles_variable_list:\n",
        "        try:\n",
        "            stat_series = datacommons.get_stat_series(state, var)\n",
        "            for year, value in stat_series.items():\n",
        "                vehicles_data.append({'State': state, 'Year': year, 'Variable': var, 'Value': value})\n",
        "        except Exception as e:\n",
        "            print(f\"Error fetching data for {state} and {var}: {e}\")\n",
        "\n",
        "\n",
        "df_vehicles = pd.DataFrame(vehicles_data)\n"
      ],
      "metadata": {
        "id": "9nwJdXjDW7p5"
      },
      "execution_count": null,
      "outputs": []
    },
    {
      "cell_type": "code",
      "source": [
        " df_vehicles_pivot = df_vehicles.pivot_table(index=['State', 'Year'], columns='Variable', values='Value').reset_index()"
      ],
      "metadata": {
        "id": "LSlCLml8XPZR"
      },
      "execution_count": null,
      "outputs": []
    },
    {
      "cell_type": "code",
      "source": [
        "df_pivot['Year'] = df_pivot['Year'].astype(int)"
      ],
      "metadata": {
        "id": "3l7axz2WXQOB"
      },
      "execution_count": null,
      "outputs": []
    },
    {
      "cell_type": "code",
      "source": [
        "df_pivot.columns"
      ],
      "metadata": {
        "colab": {
          "base_uri": "https://localhost:8080/"
        },
        "id": "5KBCoRY7ZPrk",
        "outputId": "1790ab6e-6e37-48b9-9770-2edfffc169b7"
      },
      "execution_count": null,
      "outputs": [
        {
          "output_type": "execute_result",
          "data": {
            "text/plain": [
              "Index(['State', 'Year', 'Annual_Emissions_CarbonDioxide_Biogenic',\n",
              "       'Annual_Emissions_CarbonDioxide_NonBiogenic',\n",
              "       'Annual_Emissions_Methane_NonBiogenic',\n",
              "       'Annual_Emissions_NitrousOxide_NonBiogenic', 'Count_Person', 'Name',\n",
              "       'Nearby_Places', 'Lat', 'Lon'],\n",
              "      dtype='object', name='Variable')"
            ]
          },
          "metadata": {},
          "execution_count": 26
        }
      ]
    },
    {
      "cell_type": "code",
      "source": [
        "import pandas as pd\n",
        "import plotly.graph_objects as go\n",
        "from plotly.subplots import make_subplots\n",
        "\n",
        "# Sample DataFrame\n",
        "data = {\n",
        "    'State': ['geoId/01', 'geoId/02', 'geoId/03', 'geoId/04', 'geoId/05', 'geoId/06'],\n",
        "    'Year': [2020, 2020, 2020, 2020, 2020, 2020],\n",
        "    'Annual_Emissions_CarbonDioxide_Biogenic': [100, 200, 150, 300, 250, 400],\n",
        "    'Annual_Emissions_CarbonDioxide_NonBiogenic': [90, 180, 140, 290, 230, 380],\n",
        "    'Count_Person': [5000000, 700000, 1000000, 400000, 3000000, 2500000],\n",
        "    'Nearby_Places': [['geoId/02', 'geoId/03', 'geoId/04', 'geoId/05', 'geoId/06'],\n",
        "                      ['geoId/01', 'geoId/03', 'geoId/04', 'geoId/05', 'geoId/06'],\n",
        "                      ['geoId/01', 'geoId/02', 'geoId/04', 'geoId/05', 'geoId/06'],\n",
        "                      ['geoId/01', 'geoId/02', 'geoId/03', 'geoId/05', 'geoId/06'],\n",
        "                      ['geoId/01', 'geoId/02', 'geoId/03', 'geoId/04', 'geoId/06'],\n",
        "                      ['geoId/01', 'geoId/02', 'geoId/03', 'geoId/04', 'geoId/05']],\n",
        "    'Name': ['[alabama]', '[alaska]', '[arizona]', '[arkansas]', '[california]', '[colorado]']\n",
        "}\n",
        "df = pd.DataFrame(data)\n",
        "# df = df_pivot[df_pivot['Year'] >= 2016]\n",
        "\n",
        "# df['Nearby_Places'] = df['Nearby_Places'].apply(lambda k: [x.split('@')[0] for x in k])\n",
        "\n",
        "# Function to create the interactive plot\n",
        "def create_plotly_visualization(df):\n",
        "    states = df['State'].unique()\n",
        "    years = df['Year'].unique()\n",
        "\n",
        "    # Initialize figure\n",
        "    fig = go.Figure()\n",
        "\n",
        "    # Add dropdowns\n",
        "    fig.update_layout(\n",
        "        updatemenus=[\n",
        "            {\n",
        "                'buttons': [\n",
        "                    {\n",
        "                        'method': 'update',\n",
        "                        'label': state,\n",
        "                        'args': [\n",
        "                            {'visible': [state in trace.name for trace in fig.data]},\n",
        "                            {'title': f\"State: {state}\"}\n",
        "                        ]\n",
        "                    } for state in states\n",
        "                ],\n",
        "                'direction': 'down',\n",
        "                'showactive': True,\n",
        "                'x': 0.1,\n",
        "                'xanchor': 'left',\n",
        "                'y': 1.1,\n",
        "                'yanchor': 'top'\n",
        "            },\n",
        "            {\n",
        "                'buttons': [\n",
        "                    {\n",
        "                        'method': 'update',\n",
        "                        'label': str(year),\n",
        "                        'args': [\n",
        "                            {'visible': [str(year) in trace.name for trace in fig.data]},\n",
        "                            {'title': f\"Year: {year}\"}\n",
        "                        ]\n",
        "                    } for year in years\n",
        "                ],\n",
        "                'direction': 'down',\n",
        "                'showactive': True,\n",
        "                'x': 0.3,\n",
        "                'xanchor': 'left',\n",
        "                'y': 1.1,\n",
        "                'yanchor': 'top'\n",
        "            }\n",
        "        ]\n",
        "    )\n",
        "\n",
        "    # Add traces for each state and year\n",
        "    for state in states:\n",
        "        for year in years:\n",
        "            filtered_df = df[(df['State'] == state) & (df['Year'] == year)]\n",
        "            if not filtered_df.empty:\n",
        "                nearby_places = filtered_df['Nearby_Places'].values[0]\n",
        "                nearby_df = df[(df['State'].isin(nearby_places)) & (df['Year'] == year)]\n",
        "                combined_df = pd.concat([filtered_df, nearby_df])\n",
        "\n",
        "                fig.add_trace(\n",
        "                    go.Bar(\n",
        "                        x=combined_df['Name'],\n",
        "                        y=combined_df['Annual_Emissions_CarbonDioxide_Biogenic'],\n",
        "                        name=f\"{state} {year} Biogenic\",\n",
        "                        visible=False\n",
        "                    )\n",
        "                )\n",
        "\n",
        "                fig.add_trace(\n",
        "                    go.Bar(\n",
        "                        x=combined_df['Name'],\n",
        "                        y=combined_df['Annual_Emissions_CarbonDioxide_NonBiogenic'],\n",
        "                        name=f\"{state} {year} Non-Biogenic\",\n",
        "                        visible=False\n",
        "                    )\n",
        "                )\n",
        "\n",
        "                fig.add_trace(\n",
        "                    go.Bar(\n",
        "                        x=combined_df['Name'],\n",
        "                        y=combined_df['Count_Person'],\n",
        "                        name=f\"{state} {year} Population\",\n",
        "                        visible=False\n",
        "                    )\n",
        "                )\n",
        "\n",
        "    # Set the initial visibility\n",
        "    initial_state = states[0]\n",
        "    initial_year = years[0]\n",
        "    fig.update_traces(visible=False)\n",
        "    for trace in fig.data:\n",
        "        if initial_state in trace.name and str(initial_year) in trace.name:\n",
        "            trace.visible = True\n",
        "\n",
        "    # Set layout\n",
        "    fig.update_layout(\n",
        "        title=f\"State: {initial_state}, Year: {initial_year}\",\n",
        "        xaxis_title=\"State\",\n",
        "        yaxis_title=\"Value\",\n",
        "        barmode='group'\n",
        "    )\n",
        "\n",
        "    return fig\n",
        "\n",
        "# Create the plot\n",
        "fig = create_plotly_visualization(df)\n",
        "\n",
        "# Show the plot\n",
        "fig.show()\n"
      ],
      "metadata": {
        "colab": {
          "base_uri": "https://localhost:8080/",
          "height": 542
        },
        "id": "HCDSmyTjY8Ml",
        "outputId": "dcdddfda-ff41-4747-d5a8-cdf19aa0672b"
      },
      "execution_count": null,
      "outputs": [
        {
          "output_type": "display_data",
          "data": {
            "text/html": [
              "<html>\n",
              "<head><meta charset=\"utf-8\" /></head>\n",
              "<body>\n",
              "    <div>            <script src=\"https://cdnjs.cloudflare.com/ajax/libs/mathjax/2.7.5/MathJax.js?config=TeX-AMS-MML_SVG\"></script><script type=\"text/javascript\">if (window.MathJax && window.MathJax.Hub && window.MathJax.Hub.Config) {window.MathJax.Hub.Config({SVG: {font: \"STIX-Web\"}});}</script>                <script type=\"text/javascript\">window.PlotlyConfig = {MathJaxConfig: 'local'};</script>\n",
              "        <script charset=\"utf-8\" src=\"https://cdn.plot.ly/plotly-2.24.1.min.js\"></script>                <div id=\"38a265d8-2d04-475d-a71d-119bdc0bb462\" class=\"plotly-graph-div\" style=\"height:525px; width:100%;\"></div>            <script type=\"text/javascript\">                                    window.PLOTLYENV=window.PLOTLYENV || {};                                    if (document.getElementById(\"38a265d8-2d04-475d-a71d-119bdc0bb462\")) {                    Plotly.newPlot(                        \"38a265d8-2d04-475d-a71d-119bdc0bb462\",                        [{\"name\":\"geoId\\u002f01 2020 Biogenic\",\"visible\":true,\"x\":[\"[alabama]\",\"[alaska]\",\"[arizona]\",\"[arkansas]\",\"[california]\",\"[colorado]\"],\"y\":[100,200,150,300,250,400],\"type\":\"bar\"},{\"name\":\"geoId\\u002f01 2020 Non-Biogenic\",\"visible\":true,\"x\":[\"[alabama]\",\"[alaska]\",\"[arizona]\",\"[arkansas]\",\"[california]\",\"[colorado]\"],\"y\":[90,180,140,290,230,380],\"type\":\"bar\"},{\"name\":\"geoId\\u002f01 2020 Population\",\"visible\":true,\"x\":[\"[alabama]\",\"[alaska]\",\"[arizona]\",\"[arkansas]\",\"[california]\",\"[colorado]\"],\"y\":[5000000,700000,1000000,400000,3000000,2500000],\"type\":\"bar\"},{\"name\":\"geoId\\u002f02 2020 Biogenic\",\"visible\":false,\"x\":[\"[alaska]\",\"[alabama]\",\"[arizona]\",\"[arkansas]\",\"[california]\",\"[colorado]\"],\"y\":[200,100,150,300,250,400],\"type\":\"bar\"},{\"name\":\"geoId\\u002f02 2020 Non-Biogenic\",\"visible\":false,\"x\":[\"[alaska]\",\"[alabama]\",\"[arizona]\",\"[arkansas]\",\"[california]\",\"[colorado]\"],\"y\":[180,90,140,290,230,380],\"type\":\"bar\"},{\"name\":\"geoId\\u002f02 2020 Population\",\"visible\":false,\"x\":[\"[alaska]\",\"[alabama]\",\"[arizona]\",\"[arkansas]\",\"[california]\",\"[colorado]\"],\"y\":[700000,5000000,1000000,400000,3000000,2500000],\"type\":\"bar\"},{\"name\":\"geoId\\u002f03 2020 Biogenic\",\"visible\":false,\"x\":[\"[arizona]\",\"[alabama]\",\"[alaska]\",\"[arkansas]\",\"[california]\",\"[colorado]\"],\"y\":[150,100,200,300,250,400],\"type\":\"bar\"},{\"name\":\"geoId\\u002f03 2020 Non-Biogenic\",\"visible\":false,\"x\":[\"[arizona]\",\"[alabama]\",\"[alaska]\",\"[arkansas]\",\"[california]\",\"[colorado]\"],\"y\":[140,90,180,290,230,380],\"type\":\"bar\"},{\"name\":\"geoId\\u002f03 2020 Population\",\"visible\":false,\"x\":[\"[arizona]\",\"[alabama]\",\"[alaska]\",\"[arkansas]\",\"[california]\",\"[colorado]\"],\"y\":[1000000,5000000,700000,400000,3000000,2500000],\"type\":\"bar\"},{\"name\":\"geoId\\u002f04 2020 Biogenic\",\"visible\":false,\"x\":[\"[arkansas]\",\"[alabama]\",\"[alaska]\",\"[arizona]\",\"[california]\",\"[colorado]\"],\"y\":[300,100,200,150,250,400],\"type\":\"bar\"},{\"name\":\"geoId\\u002f04 2020 Non-Biogenic\",\"visible\":false,\"x\":[\"[arkansas]\",\"[alabama]\",\"[alaska]\",\"[arizona]\",\"[california]\",\"[colorado]\"],\"y\":[290,90,180,140,230,380],\"type\":\"bar\"},{\"name\":\"geoId\\u002f04 2020 Population\",\"visible\":false,\"x\":[\"[arkansas]\",\"[alabama]\",\"[alaska]\",\"[arizona]\",\"[california]\",\"[colorado]\"],\"y\":[400000,5000000,700000,1000000,3000000,2500000],\"type\":\"bar\"},{\"name\":\"geoId\\u002f05 2020 Biogenic\",\"visible\":false,\"x\":[\"[california]\",\"[alabama]\",\"[alaska]\",\"[arizona]\",\"[arkansas]\",\"[colorado]\"],\"y\":[250,100,200,150,300,400],\"type\":\"bar\"},{\"name\":\"geoId\\u002f05 2020 Non-Biogenic\",\"visible\":false,\"x\":[\"[california]\",\"[alabama]\",\"[alaska]\",\"[arizona]\",\"[arkansas]\",\"[colorado]\"],\"y\":[230,90,180,140,290,380],\"type\":\"bar\"},{\"name\":\"geoId\\u002f05 2020 Population\",\"visible\":false,\"x\":[\"[california]\",\"[alabama]\",\"[alaska]\",\"[arizona]\",\"[arkansas]\",\"[colorado]\"],\"y\":[3000000,5000000,700000,1000000,400000,2500000],\"type\":\"bar\"},{\"name\":\"geoId\\u002f06 2020 Biogenic\",\"visible\":false,\"x\":[\"[colorado]\",\"[alabama]\",\"[alaska]\",\"[arizona]\",\"[arkansas]\",\"[california]\"],\"y\":[400,100,200,150,300,250],\"type\":\"bar\"},{\"name\":\"geoId\\u002f06 2020 Non-Biogenic\",\"visible\":false,\"x\":[\"[colorado]\",\"[alabama]\",\"[alaska]\",\"[arizona]\",\"[arkansas]\",\"[california]\"],\"y\":[380,90,180,140,290,230],\"type\":\"bar\"},{\"name\":\"geoId\\u002f06 2020 Population\",\"visible\":false,\"x\":[\"[colorado]\",\"[alabama]\",\"[alaska]\",\"[arizona]\",\"[arkansas]\",\"[california]\"],\"y\":[2500000,5000000,700000,1000000,400000,3000000],\"type\":\"bar\"}],                        {\"template\":{\"data\":{\"histogram2dcontour\":[{\"type\":\"histogram2dcontour\",\"colorbar\":{\"outlinewidth\":0,\"ticks\":\"\"},\"colorscale\":[[0.0,\"#0d0887\"],[0.1111111111111111,\"#46039f\"],[0.2222222222222222,\"#7201a8\"],[0.3333333333333333,\"#9c179e\"],[0.4444444444444444,\"#bd3786\"],[0.5555555555555556,\"#d8576b\"],[0.6666666666666666,\"#ed7953\"],[0.7777777777777778,\"#fb9f3a\"],[0.8888888888888888,\"#fdca26\"],[1.0,\"#f0f921\"]]}],\"choropleth\":[{\"type\":\"choropleth\",\"colorbar\":{\"outlinewidth\":0,\"ticks\":\"\"}}],\"histogram2d\":[{\"type\":\"histogram2d\",\"colorbar\":{\"outlinewidth\":0,\"ticks\":\"\"},\"colorscale\":[[0.0,\"#0d0887\"],[0.1111111111111111,\"#46039f\"],[0.2222222222222222,\"#7201a8\"],[0.3333333333333333,\"#9c179e\"],[0.4444444444444444,\"#bd3786\"],[0.5555555555555556,\"#d8576b\"],[0.6666666666666666,\"#ed7953\"],[0.7777777777777778,\"#fb9f3a\"],[0.8888888888888888,\"#fdca26\"],[1.0,\"#f0f921\"]]}],\"heatmap\":[{\"type\":\"heatmap\",\"colorbar\":{\"outlinewidth\":0,\"ticks\":\"\"},\"colorscale\":[[0.0,\"#0d0887\"],[0.1111111111111111,\"#46039f\"],[0.2222222222222222,\"#7201a8\"],[0.3333333333333333,\"#9c179e\"],[0.4444444444444444,\"#bd3786\"],[0.5555555555555556,\"#d8576b\"],[0.6666666666666666,\"#ed7953\"],[0.7777777777777778,\"#fb9f3a\"],[0.8888888888888888,\"#fdca26\"],[1.0,\"#f0f921\"]]}],\"heatmapgl\":[{\"type\":\"heatmapgl\",\"colorbar\":{\"outlinewidth\":0,\"ticks\":\"\"},\"colorscale\":[[0.0,\"#0d0887\"],[0.1111111111111111,\"#46039f\"],[0.2222222222222222,\"#7201a8\"],[0.3333333333333333,\"#9c179e\"],[0.4444444444444444,\"#bd3786\"],[0.5555555555555556,\"#d8576b\"],[0.6666666666666666,\"#ed7953\"],[0.7777777777777778,\"#fb9f3a\"],[0.8888888888888888,\"#fdca26\"],[1.0,\"#f0f921\"]]}],\"contourcarpet\":[{\"type\":\"contourcarpet\",\"colorbar\":{\"outlinewidth\":0,\"ticks\":\"\"}}],\"contour\":[{\"type\":\"contour\",\"colorbar\":{\"outlinewidth\":0,\"ticks\":\"\"},\"colorscale\":[[0.0,\"#0d0887\"],[0.1111111111111111,\"#46039f\"],[0.2222222222222222,\"#7201a8\"],[0.3333333333333333,\"#9c179e\"],[0.4444444444444444,\"#bd3786\"],[0.5555555555555556,\"#d8576b\"],[0.6666666666666666,\"#ed7953\"],[0.7777777777777778,\"#fb9f3a\"],[0.8888888888888888,\"#fdca26\"],[1.0,\"#f0f921\"]]}],\"surface\":[{\"type\":\"surface\",\"colorbar\":{\"outlinewidth\":0,\"ticks\":\"\"},\"colorscale\":[[0.0,\"#0d0887\"],[0.1111111111111111,\"#46039f\"],[0.2222222222222222,\"#7201a8\"],[0.3333333333333333,\"#9c179e\"],[0.4444444444444444,\"#bd3786\"],[0.5555555555555556,\"#d8576b\"],[0.6666666666666666,\"#ed7953\"],[0.7777777777777778,\"#fb9f3a\"],[0.8888888888888888,\"#fdca26\"],[1.0,\"#f0f921\"]]}],\"mesh3d\":[{\"type\":\"mesh3d\",\"colorbar\":{\"outlinewidth\":0,\"ticks\":\"\"}}],\"scatter\":[{\"fillpattern\":{\"fillmode\":\"overlay\",\"size\":10,\"solidity\":0.2},\"type\":\"scatter\"}],\"parcoords\":[{\"type\":\"parcoords\",\"line\":{\"colorbar\":{\"outlinewidth\":0,\"ticks\":\"\"}}}],\"scatterpolargl\":[{\"type\":\"scatterpolargl\",\"marker\":{\"colorbar\":{\"outlinewidth\":0,\"ticks\":\"\"}}}],\"bar\":[{\"error_x\":{\"color\":\"#2a3f5f\"},\"error_y\":{\"color\":\"#2a3f5f\"},\"marker\":{\"line\":{\"color\":\"#E5ECF6\",\"width\":0.5},\"pattern\":{\"fillmode\":\"overlay\",\"size\":10,\"solidity\":0.2}},\"type\":\"bar\"}],\"scattergeo\":[{\"type\":\"scattergeo\",\"marker\":{\"colorbar\":{\"outlinewidth\":0,\"ticks\":\"\"}}}],\"scatterpolar\":[{\"type\":\"scatterpolar\",\"marker\":{\"colorbar\":{\"outlinewidth\":0,\"ticks\":\"\"}}}],\"histogram\":[{\"marker\":{\"pattern\":{\"fillmode\":\"overlay\",\"size\":10,\"solidity\":0.2}},\"type\":\"histogram\"}],\"scattergl\":[{\"type\":\"scattergl\",\"marker\":{\"colorbar\":{\"outlinewidth\":0,\"ticks\":\"\"}}}],\"scatter3d\":[{\"type\":\"scatter3d\",\"line\":{\"colorbar\":{\"outlinewidth\":0,\"ticks\":\"\"}},\"marker\":{\"colorbar\":{\"outlinewidth\":0,\"ticks\":\"\"}}}],\"scattermapbox\":[{\"type\":\"scattermapbox\",\"marker\":{\"colorbar\":{\"outlinewidth\":0,\"ticks\":\"\"}}}],\"scatterternary\":[{\"type\":\"scatterternary\",\"marker\":{\"colorbar\":{\"outlinewidth\":0,\"ticks\":\"\"}}}],\"scattercarpet\":[{\"type\":\"scattercarpet\",\"marker\":{\"colorbar\":{\"outlinewidth\":0,\"ticks\":\"\"}}}],\"carpet\":[{\"aaxis\":{\"endlinecolor\":\"#2a3f5f\",\"gridcolor\":\"white\",\"linecolor\":\"white\",\"minorgridcolor\":\"white\",\"startlinecolor\":\"#2a3f5f\"},\"baxis\":{\"endlinecolor\":\"#2a3f5f\",\"gridcolor\":\"white\",\"linecolor\":\"white\",\"minorgridcolor\":\"white\",\"startlinecolor\":\"#2a3f5f\"},\"type\":\"carpet\"}],\"table\":[{\"cells\":{\"fill\":{\"color\":\"#EBF0F8\"},\"line\":{\"color\":\"white\"}},\"header\":{\"fill\":{\"color\":\"#C8D4E3\"},\"line\":{\"color\":\"white\"}},\"type\":\"table\"}],\"barpolar\":[{\"marker\":{\"line\":{\"color\":\"#E5ECF6\",\"width\":0.5},\"pattern\":{\"fillmode\":\"overlay\",\"size\":10,\"solidity\":0.2}},\"type\":\"barpolar\"}],\"pie\":[{\"automargin\":true,\"type\":\"pie\"}]},\"layout\":{\"autotypenumbers\":\"strict\",\"colorway\":[\"#636efa\",\"#EF553B\",\"#00cc96\",\"#ab63fa\",\"#FFA15A\",\"#19d3f3\",\"#FF6692\",\"#B6E880\",\"#FF97FF\",\"#FECB52\"],\"font\":{\"color\":\"#2a3f5f\"},\"hovermode\":\"closest\",\"hoverlabel\":{\"align\":\"left\"},\"paper_bgcolor\":\"white\",\"plot_bgcolor\":\"#E5ECF6\",\"polar\":{\"bgcolor\":\"#E5ECF6\",\"angularaxis\":{\"gridcolor\":\"white\",\"linecolor\":\"white\",\"ticks\":\"\"},\"radialaxis\":{\"gridcolor\":\"white\",\"linecolor\":\"white\",\"ticks\":\"\"}},\"ternary\":{\"bgcolor\":\"#E5ECF6\",\"aaxis\":{\"gridcolor\":\"white\",\"linecolor\":\"white\",\"ticks\":\"\"},\"baxis\":{\"gridcolor\":\"white\",\"linecolor\":\"white\",\"ticks\":\"\"},\"caxis\":{\"gridcolor\":\"white\",\"linecolor\":\"white\",\"ticks\":\"\"}},\"coloraxis\":{\"colorbar\":{\"outlinewidth\":0,\"ticks\":\"\"}},\"colorscale\":{\"sequential\":[[0.0,\"#0d0887\"],[0.1111111111111111,\"#46039f\"],[0.2222222222222222,\"#7201a8\"],[0.3333333333333333,\"#9c179e\"],[0.4444444444444444,\"#bd3786\"],[0.5555555555555556,\"#d8576b\"],[0.6666666666666666,\"#ed7953\"],[0.7777777777777778,\"#fb9f3a\"],[0.8888888888888888,\"#fdca26\"],[1.0,\"#f0f921\"]],\"sequentialminus\":[[0.0,\"#0d0887\"],[0.1111111111111111,\"#46039f\"],[0.2222222222222222,\"#7201a8\"],[0.3333333333333333,\"#9c179e\"],[0.4444444444444444,\"#bd3786\"],[0.5555555555555556,\"#d8576b\"],[0.6666666666666666,\"#ed7953\"],[0.7777777777777778,\"#fb9f3a\"],[0.8888888888888888,\"#fdca26\"],[1.0,\"#f0f921\"]],\"diverging\":[[0,\"#8e0152\"],[0.1,\"#c51b7d\"],[0.2,\"#de77ae\"],[0.3,\"#f1b6da\"],[0.4,\"#fde0ef\"],[0.5,\"#f7f7f7\"],[0.6,\"#e6f5d0\"],[0.7,\"#b8e186\"],[0.8,\"#7fbc41\"],[0.9,\"#4d9221\"],[1,\"#276419\"]]},\"xaxis\":{\"gridcolor\":\"white\",\"linecolor\":\"white\",\"ticks\":\"\",\"title\":{\"standoff\":15},\"zerolinecolor\":\"white\",\"automargin\":true,\"zerolinewidth\":2},\"yaxis\":{\"gridcolor\":\"white\",\"linecolor\":\"white\",\"ticks\":\"\",\"title\":{\"standoff\":15},\"zerolinecolor\":\"white\",\"automargin\":true,\"zerolinewidth\":2},\"scene\":{\"xaxis\":{\"backgroundcolor\":\"#E5ECF6\",\"gridcolor\":\"white\",\"linecolor\":\"white\",\"showbackground\":true,\"ticks\":\"\",\"zerolinecolor\":\"white\",\"gridwidth\":2},\"yaxis\":{\"backgroundcolor\":\"#E5ECF6\",\"gridcolor\":\"white\",\"linecolor\":\"white\",\"showbackground\":true,\"ticks\":\"\",\"zerolinecolor\":\"white\",\"gridwidth\":2},\"zaxis\":{\"backgroundcolor\":\"#E5ECF6\",\"gridcolor\":\"white\",\"linecolor\":\"white\",\"showbackground\":true,\"ticks\":\"\",\"zerolinecolor\":\"white\",\"gridwidth\":2}},\"shapedefaults\":{\"line\":{\"color\":\"#2a3f5f\"}},\"annotationdefaults\":{\"arrowcolor\":\"#2a3f5f\",\"arrowhead\":0,\"arrowwidth\":1},\"geo\":{\"bgcolor\":\"white\",\"landcolor\":\"#E5ECF6\",\"subunitcolor\":\"white\",\"showland\":true,\"showlakes\":true,\"lakecolor\":\"white\"},\"title\":{\"x\":0.05},\"mapbox\":{\"style\":\"light\"}}},\"updatemenus\":[{\"buttons\":[{\"args\":[{\"visible\":[]},{\"title\":\"State: geoId\\u002f01\"}],\"label\":\"geoId\\u002f01\",\"method\":\"update\"},{\"args\":[{\"visible\":[]},{\"title\":\"State: geoId\\u002f02\"}],\"label\":\"geoId\\u002f02\",\"method\":\"update\"},{\"args\":[{\"visible\":[]},{\"title\":\"State: geoId\\u002f03\"}],\"label\":\"geoId\\u002f03\",\"method\":\"update\"},{\"args\":[{\"visible\":[]},{\"title\":\"State: geoId\\u002f04\"}],\"label\":\"geoId\\u002f04\",\"method\":\"update\"},{\"args\":[{\"visible\":[]},{\"title\":\"State: geoId\\u002f05\"}],\"label\":\"geoId\\u002f05\",\"method\":\"update\"},{\"args\":[{\"visible\":[]},{\"title\":\"State: geoId\\u002f06\"}],\"label\":\"geoId\\u002f06\",\"method\":\"update\"}],\"direction\":\"down\",\"showactive\":true,\"x\":0.1,\"xanchor\":\"left\",\"y\":1.1,\"yanchor\":\"top\"},{\"buttons\":[{\"args\":[{\"visible\":[]},{\"title\":\"Year: 2020\"}],\"label\":\"2020\",\"method\":\"update\"}],\"direction\":\"down\",\"showactive\":true,\"x\":0.3,\"xanchor\":\"left\",\"y\":1.1,\"yanchor\":\"top\"}],\"title\":{\"text\":\"State: geoId\\u002f01, Year: 2020\"},\"xaxis\":{\"title\":{\"text\":\"State\"}},\"yaxis\":{\"title\":{\"text\":\"Value\"}},\"barmode\":\"group\"},                        {\"responsive\": true}                    ).then(function(){\n",
              "                            \n",
              "var gd = document.getElementById('38a265d8-2d04-475d-a71d-119bdc0bb462');\n",
              "var x = new MutationObserver(function (mutations, observer) {{\n",
              "        var display = window.getComputedStyle(gd).display;\n",
              "        if (!display || display === 'none') {{\n",
              "            console.log([gd, 'removed!']);\n",
              "            Plotly.purge(gd);\n",
              "            observer.disconnect();\n",
              "        }}\n",
              "}});\n",
              "\n",
              "// Listen for the removal of the full notebook cells\n",
              "var notebookContainer = gd.closest('#notebook-container');\n",
              "if (notebookContainer) {{\n",
              "    x.observe(notebookContainer, {childList: true});\n",
              "}}\n",
              "\n",
              "// Listen for the clearing of the current output cell\n",
              "var outputEl = gd.closest('.output');\n",
              "if (outputEl) {{\n",
              "    x.observe(outputEl, {childList: true});\n",
              "}}\n",
              "\n",
              "                        })                };                            </script>        </div>\n",
              "</body>\n",
              "</html>"
            ]
          },
          "metadata": {}
        }
      ]
    },
    {
      "cell_type": "markdown",
      "source": [],
      "metadata": {
        "id": "Ic4Z5jtYkTCv"
      }
    },
    {
      "cell_type": "code",
      "source": [
        "import pandas as pd\n",
        "import plotly.graph_objects as go\n",
        "\n",
        "# Sample DataFrame\n",
        "data = {\n",
        "    'State': ['geoId/01', 'geoId/02', 'geoId/03', 'geoId/04', 'geoId/05', 'geoId/06'],\n",
        "    'Year': [2020, 2020, 2020, 2020, 2021, 2020],\n",
        "    'Annual_Emissions_CarbonDioxide_Biogenic': [100, 200, 150, 300, 250, 400],\n",
        "    'Annual_Emissions_CarbonDioxide_NonBiogenic': [90, 180, 140, 290, 230, 380],\n",
        "    'Count_Person': [5000000, 700000, 1000000, 400000, 3000000, 2500000],\n",
        "    'Nearby_Places': [['geoId/02', 'geoId/03', 'geoId/04', 'geoId/05', 'geoId/06'],\n",
        "                      ['geoId/01', 'geoId/03', 'geoId/04'],\n",
        "                      ['geoId/01', 'geoId/02', 'geoId/04', 'geoId/05', 'geoId/06'],\n",
        "                      ['geoId/01', 'geoId/02', 'geoId/03', 'geoId/05', 'geoId/06'],\n",
        "                      ['geoId/01', 'geoId/02', 'geoId/03', 'geoId/04', 'geoId/06'],\n",
        "                      ['geoId/01', 'geoId/02', 'geoId/03', 'geoId/04', 'geoId/05']],\n",
        "    'Name': ['[alabama]', '[alaska]', '[arizona]', '[arkansas]', '[california]', '[colorado]']\n",
        "}\n",
        "data_plot  = pd.DataFrame(data)\n",
        "\n",
        "# Function to create the interactive plot\n",
        "def create_plotly_visualization(df):\n",
        "    states = df['State'].unique()\n",
        "    years = df['Year'].unique()\n",
        "\n",
        "    # Initialize figure\n",
        "    fig = go.Figure()\n",
        "\n",
        "    # Add dropdowns\n",
        "    fig.update_layout(\n",
        "        updatemenus=[\n",
        "            {\n",
        "                'buttons': [\n",
        "                    {\n",
        "                        'method': 'update',\n",
        "                        'label': state,\n",
        "                        'args': [\n",
        "                            [{'visible': [state in trace.name.split()[0] for trace in fig.data]}],\n",
        "                            {'title': f\"State: {state}\"}\n",
        "                        ]\n",
        "                    } for state in states\n",
        "                ],\n",
        "                'direction': 'down',\n",
        "                'showactive': True,\n",
        "                'x': 0.1,\n",
        "                'xanchor': 'left',\n",
        "                'y': 1.1,\n",
        "                'yanchor': 'top'\n",
        "            },\n",
        "            {\n",
        "                'buttons': [\n",
        "                    {\n",
        "                        'method': 'update',\n",
        "                        'label': str(year),\n",
        "                        'args': [\n",
        "                            [{'visible': [str(year) in trace.name.split()[1] for trace in fig.data]}],\n",
        "                            {'title': f\"Year: {year}\"}\n",
        "                        ]\n",
        "                    } for year in years\n",
        "                ],\n",
        "                'direction': 'down',\n",
        "                'showactive': True,\n",
        "                'x': 0.3,\n",
        "                'xanchor': 'left',\n",
        "                'y': 1.1,\n",
        "                'yanchor': 'top'\n",
        "            }\n",
        "        ]\n",
        "    )\n",
        "\n",
        "    # Add traces for each state and year\n",
        "    for state in states:\n",
        "        for year in years:\n",
        "            filtered_df = df[(df['State'] == state) & (df['Year'] == year)]\n",
        "            if not filtered_df.empty:\n",
        "                nearby_places = filtered_df['Nearby_Places'].values[0]\n",
        "                nearby_df = df[(df['State'].isin(nearby_places)) & (df['Year'] == year)]\n",
        "                combined_df = pd.concat([filtered_df, nearby_df])\n",
        "\n",
        "                fig.add_trace(\n",
        "                    go.Bar(\n",
        "                        x=combined_df['Name'],\n",
        "                        y=combined_df['Annual_Emissions_CarbonDioxide_NonBiogenic'],\n",
        "                        name=f\"{state} {year} CO2 NB Biogenic per capita\",\n",
        "                        visible=(state == states[0] and year == years[0])\n",
        "                    )\n",
        "                )\n",
        "\n",
        "                fig.add_trace(\n",
        "                    go.Bar(\n",
        "                        x=combined_df['Name'],\n",
        "                        y=combined_df['Annual_Emissions_CarbonDioxide_Biogenic'],\n",
        "                        name=f\"{state} {year} Biogenic CO2 per capita\",\n",
        "                        visible=(state == states[0] and year == years[0])\n",
        "                    )\n",
        "                )\n",
        "\n",
        "    # Set layout\n",
        "    fig.update_layout(\n",
        "        title=f\"State: {states[0]}, Year: {years[0]}\",\n",
        "        xaxis_title=\"State\",\n",
        "        yaxis_title=\"Value\",\n",
        "        barmode='group'\n",
        "    )\n",
        "\n",
        "    return fig\n",
        "\n",
        "# Create the plot\n",
        "fig = create_plotly_visualization(data_plot)\n",
        "\n",
        "# Show the plot\n",
        "fig.show()\n"
      ],
      "metadata": {
        "colab": {
          "base_uri": "https://localhost:8080/",
          "height": 542
        },
        "id": "IfUpfxV4fNnL",
        "outputId": "a5a1aeaf-0656-454f-e022-2088447ae890"
      },
      "execution_count": null,
      "outputs": [
        {
          "output_type": "display_data",
          "data": {
            "text/html": [
              "<html>\n",
              "<head><meta charset=\"utf-8\" /></head>\n",
              "<body>\n",
              "    <div>            <script src=\"https://cdnjs.cloudflare.com/ajax/libs/mathjax/2.7.5/MathJax.js?config=TeX-AMS-MML_SVG\"></script><script type=\"text/javascript\">if (window.MathJax && window.MathJax.Hub && window.MathJax.Hub.Config) {window.MathJax.Hub.Config({SVG: {font: \"STIX-Web\"}});}</script>                <script type=\"text/javascript\">window.PlotlyConfig = {MathJaxConfig: 'local'};</script>\n",
              "        <script charset=\"utf-8\" src=\"https://cdn.plot.ly/plotly-2.24.1.min.js\"></script>                <div id=\"7409caad-c179-4a91-80d8-24e47f47be52\" class=\"plotly-graph-div\" style=\"height:525px; width:100%;\"></div>            <script type=\"text/javascript\">                                    window.PLOTLYENV=window.PLOTLYENV || {};                                    if (document.getElementById(\"7409caad-c179-4a91-80d8-24e47f47be52\")) {                    Plotly.newPlot(                        \"7409caad-c179-4a91-80d8-24e47f47be52\",                        [{\"name\":\"geoId\\u002f01 2020 CO2 NB Biogenic per capita\",\"visible\":true,\"x\":[\"[alabama]\",\"[alaska]\",\"[arizona]\",\"[arkansas]\",\"[colorado]\"],\"y\":[90,180,140,290,380],\"type\":\"bar\"},{\"name\":\"geoId\\u002f01 2020 Biogenic CO2 per capita\",\"visible\":true,\"x\":[\"[alabama]\",\"[alaska]\",\"[arizona]\",\"[arkansas]\",\"[colorado]\"],\"y\":[100,200,150,300,400],\"type\":\"bar\"},{\"name\":\"geoId\\u002f02 2020 CO2 NB Biogenic per capita\",\"visible\":false,\"x\":[\"[alaska]\",\"[alabama]\",\"[arizona]\",\"[arkansas]\"],\"y\":[180,90,140,290],\"type\":\"bar\"},{\"name\":\"geoId\\u002f02 2020 Biogenic CO2 per capita\",\"visible\":false,\"x\":[\"[alaska]\",\"[alabama]\",\"[arizona]\",\"[arkansas]\"],\"y\":[200,100,150,300],\"type\":\"bar\"},{\"name\":\"geoId\\u002f03 2020 CO2 NB Biogenic per capita\",\"visible\":false,\"x\":[\"[arizona]\",\"[alabama]\",\"[alaska]\",\"[arkansas]\",\"[colorado]\"],\"y\":[140,90,180,290,380],\"type\":\"bar\"},{\"name\":\"geoId\\u002f03 2020 Biogenic CO2 per capita\",\"visible\":false,\"x\":[\"[arizona]\",\"[alabama]\",\"[alaska]\",\"[arkansas]\",\"[colorado]\"],\"y\":[150,100,200,300,400],\"type\":\"bar\"},{\"name\":\"geoId\\u002f04 2020 CO2 NB Biogenic per capita\",\"visible\":false,\"x\":[\"[arkansas]\",\"[alabama]\",\"[alaska]\",\"[arizona]\",\"[colorado]\"],\"y\":[290,90,180,140,380],\"type\":\"bar\"},{\"name\":\"geoId\\u002f04 2020 Biogenic CO2 per capita\",\"visible\":false,\"x\":[\"[arkansas]\",\"[alabama]\",\"[alaska]\",\"[arizona]\",\"[colorado]\"],\"y\":[300,100,200,150,400],\"type\":\"bar\"},{\"name\":\"geoId\\u002f05 2021 CO2 NB Biogenic per capita\",\"visible\":false,\"x\":[\"[california]\"],\"y\":[230],\"type\":\"bar\"},{\"name\":\"geoId\\u002f05 2021 Biogenic CO2 per capita\",\"visible\":false,\"x\":[\"[california]\"],\"y\":[250],\"type\":\"bar\"},{\"name\":\"geoId\\u002f06 2020 CO2 NB Biogenic per capita\",\"visible\":false,\"x\":[\"[colorado]\",\"[alabama]\",\"[alaska]\",\"[arizona]\",\"[arkansas]\"],\"y\":[380,90,180,140,290],\"type\":\"bar\"},{\"name\":\"geoId\\u002f06 2020 Biogenic CO2 per capita\",\"visible\":false,\"x\":[\"[colorado]\",\"[alabama]\",\"[alaska]\",\"[arizona]\",\"[arkansas]\"],\"y\":[400,100,200,150,300],\"type\":\"bar\"}],                        {\"template\":{\"data\":{\"histogram2dcontour\":[{\"type\":\"histogram2dcontour\",\"colorbar\":{\"outlinewidth\":0,\"ticks\":\"\"},\"colorscale\":[[0.0,\"#0d0887\"],[0.1111111111111111,\"#46039f\"],[0.2222222222222222,\"#7201a8\"],[0.3333333333333333,\"#9c179e\"],[0.4444444444444444,\"#bd3786\"],[0.5555555555555556,\"#d8576b\"],[0.6666666666666666,\"#ed7953\"],[0.7777777777777778,\"#fb9f3a\"],[0.8888888888888888,\"#fdca26\"],[1.0,\"#f0f921\"]]}],\"choropleth\":[{\"type\":\"choropleth\",\"colorbar\":{\"outlinewidth\":0,\"ticks\":\"\"}}],\"histogram2d\":[{\"type\":\"histogram2d\",\"colorbar\":{\"outlinewidth\":0,\"ticks\":\"\"},\"colorscale\":[[0.0,\"#0d0887\"],[0.1111111111111111,\"#46039f\"],[0.2222222222222222,\"#7201a8\"],[0.3333333333333333,\"#9c179e\"],[0.4444444444444444,\"#bd3786\"],[0.5555555555555556,\"#d8576b\"],[0.6666666666666666,\"#ed7953\"],[0.7777777777777778,\"#fb9f3a\"],[0.8888888888888888,\"#fdca26\"],[1.0,\"#f0f921\"]]}],\"heatmap\":[{\"type\":\"heatmap\",\"colorbar\":{\"outlinewidth\":0,\"ticks\":\"\"},\"colorscale\":[[0.0,\"#0d0887\"],[0.1111111111111111,\"#46039f\"],[0.2222222222222222,\"#7201a8\"],[0.3333333333333333,\"#9c179e\"],[0.4444444444444444,\"#bd3786\"],[0.5555555555555556,\"#d8576b\"],[0.6666666666666666,\"#ed7953\"],[0.7777777777777778,\"#fb9f3a\"],[0.8888888888888888,\"#fdca26\"],[1.0,\"#f0f921\"]]}],\"heatmapgl\":[{\"type\":\"heatmapgl\",\"colorbar\":{\"outlinewidth\":0,\"ticks\":\"\"},\"colorscale\":[[0.0,\"#0d0887\"],[0.1111111111111111,\"#46039f\"],[0.2222222222222222,\"#7201a8\"],[0.3333333333333333,\"#9c179e\"],[0.4444444444444444,\"#bd3786\"],[0.5555555555555556,\"#d8576b\"],[0.6666666666666666,\"#ed7953\"],[0.7777777777777778,\"#fb9f3a\"],[0.8888888888888888,\"#fdca26\"],[1.0,\"#f0f921\"]]}],\"contourcarpet\":[{\"type\":\"contourcarpet\",\"colorbar\":{\"outlinewidth\":0,\"ticks\":\"\"}}],\"contour\":[{\"type\":\"contour\",\"colorbar\":{\"outlinewidth\":0,\"ticks\":\"\"},\"colorscale\":[[0.0,\"#0d0887\"],[0.1111111111111111,\"#46039f\"],[0.2222222222222222,\"#7201a8\"],[0.3333333333333333,\"#9c179e\"],[0.4444444444444444,\"#bd3786\"],[0.5555555555555556,\"#d8576b\"],[0.6666666666666666,\"#ed7953\"],[0.7777777777777778,\"#fb9f3a\"],[0.8888888888888888,\"#fdca26\"],[1.0,\"#f0f921\"]]}],\"surface\":[{\"type\":\"surface\",\"colorbar\":{\"outlinewidth\":0,\"ticks\":\"\"},\"colorscale\":[[0.0,\"#0d0887\"],[0.1111111111111111,\"#46039f\"],[0.2222222222222222,\"#7201a8\"],[0.3333333333333333,\"#9c179e\"],[0.4444444444444444,\"#bd3786\"],[0.5555555555555556,\"#d8576b\"],[0.6666666666666666,\"#ed7953\"],[0.7777777777777778,\"#fb9f3a\"],[0.8888888888888888,\"#fdca26\"],[1.0,\"#f0f921\"]]}],\"mesh3d\":[{\"type\":\"mesh3d\",\"colorbar\":{\"outlinewidth\":0,\"ticks\":\"\"}}],\"scatter\":[{\"fillpattern\":{\"fillmode\":\"overlay\",\"size\":10,\"solidity\":0.2},\"type\":\"scatter\"}],\"parcoords\":[{\"type\":\"parcoords\",\"line\":{\"colorbar\":{\"outlinewidth\":0,\"ticks\":\"\"}}}],\"scatterpolargl\":[{\"type\":\"scatterpolargl\",\"marker\":{\"colorbar\":{\"outlinewidth\":0,\"ticks\":\"\"}}}],\"bar\":[{\"error_x\":{\"color\":\"#2a3f5f\"},\"error_y\":{\"color\":\"#2a3f5f\"},\"marker\":{\"line\":{\"color\":\"#E5ECF6\",\"width\":0.5},\"pattern\":{\"fillmode\":\"overlay\",\"size\":10,\"solidity\":0.2}},\"type\":\"bar\"}],\"scattergeo\":[{\"type\":\"scattergeo\",\"marker\":{\"colorbar\":{\"outlinewidth\":0,\"ticks\":\"\"}}}],\"scatterpolar\":[{\"type\":\"scatterpolar\",\"marker\":{\"colorbar\":{\"outlinewidth\":0,\"ticks\":\"\"}}}],\"histogram\":[{\"marker\":{\"pattern\":{\"fillmode\":\"overlay\",\"size\":10,\"solidity\":0.2}},\"type\":\"histogram\"}],\"scattergl\":[{\"type\":\"scattergl\",\"marker\":{\"colorbar\":{\"outlinewidth\":0,\"ticks\":\"\"}}}],\"scatter3d\":[{\"type\":\"scatter3d\",\"line\":{\"colorbar\":{\"outlinewidth\":0,\"ticks\":\"\"}},\"marker\":{\"colorbar\":{\"outlinewidth\":0,\"ticks\":\"\"}}}],\"scattermapbox\":[{\"type\":\"scattermapbox\",\"marker\":{\"colorbar\":{\"outlinewidth\":0,\"ticks\":\"\"}}}],\"scatterternary\":[{\"type\":\"scatterternary\",\"marker\":{\"colorbar\":{\"outlinewidth\":0,\"ticks\":\"\"}}}],\"scattercarpet\":[{\"type\":\"scattercarpet\",\"marker\":{\"colorbar\":{\"outlinewidth\":0,\"ticks\":\"\"}}}],\"carpet\":[{\"aaxis\":{\"endlinecolor\":\"#2a3f5f\",\"gridcolor\":\"white\",\"linecolor\":\"white\",\"minorgridcolor\":\"white\",\"startlinecolor\":\"#2a3f5f\"},\"baxis\":{\"endlinecolor\":\"#2a3f5f\",\"gridcolor\":\"white\",\"linecolor\":\"white\",\"minorgridcolor\":\"white\",\"startlinecolor\":\"#2a3f5f\"},\"type\":\"carpet\"}],\"table\":[{\"cells\":{\"fill\":{\"color\":\"#EBF0F8\"},\"line\":{\"color\":\"white\"}},\"header\":{\"fill\":{\"color\":\"#C8D4E3\"},\"line\":{\"color\":\"white\"}},\"type\":\"table\"}],\"barpolar\":[{\"marker\":{\"line\":{\"color\":\"#E5ECF6\",\"width\":0.5},\"pattern\":{\"fillmode\":\"overlay\",\"size\":10,\"solidity\":0.2}},\"type\":\"barpolar\"}],\"pie\":[{\"automargin\":true,\"type\":\"pie\"}]},\"layout\":{\"autotypenumbers\":\"strict\",\"colorway\":[\"#636efa\",\"#EF553B\",\"#00cc96\",\"#ab63fa\",\"#FFA15A\",\"#19d3f3\",\"#FF6692\",\"#B6E880\",\"#FF97FF\",\"#FECB52\"],\"font\":{\"color\":\"#2a3f5f\"},\"hovermode\":\"closest\",\"hoverlabel\":{\"align\":\"left\"},\"paper_bgcolor\":\"white\",\"plot_bgcolor\":\"#E5ECF6\",\"polar\":{\"bgcolor\":\"#E5ECF6\",\"angularaxis\":{\"gridcolor\":\"white\",\"linecolor\":\"white\",\"ticks\":\"\"},\"radialaxis\":{\"gridcolor\":\"white\",\"linecolor\":\"white\",\"ticks\":\"\"}},\"ternary\":{\"bgcolor\":\"#E5ECF6\",\"aaxis\":{\"gridcolor\":\"white\",\"linecolor\":\"white\",\"ticks\":\"\"},\"baxis\":{\"gridcolor\":\"white\",\"linecolor\":\"white\",\"ticks\":\"\"},\"caxis\":{\"gridcolor\":\"white\",\"linecolor\":\"white\",\"ticks\":\"\"}},\"coloraxis\":{\"colorbar\":{\"outlinewidth\":0,\"ticks\":\"\"}},\"colorscale\":{\"sequential\":[[0.0,\"#0d0887\"],[0.1111111111111111,\"#46039f\"],[0.2222222222222222,\"#7201a8\"],[0.3333333333333333,\"#9c179e\"],[0.4444444444444444,\"#bd3786\"],[0.5555555555555556,\"#d8576b\"],[0.6666666666666666,\"#ed7953\"],[0.7777777777777778,\"#fb9f3a\"],[0.8888888888888888,\"#fdca26\"],[1.0,\"#f0f921\"]],\"sequentialminus\":[[0.0,\"#0d0887\"],[0.1111111111111111,\"#46039f\"],[0.2222222222222222,\"#7201a8\"],[0.3333333333333333,\"#9c179e\"],[0.4444444444444444,\"#bd3786\"],[0.5555555555555556,\"#d8576b\"],[0.6666666666666666,\"#ed7953\"],[0.7777777777777778,\"#fb9f3a\"],[0.8888888888888888,\"#fdca26\"],[1.0,\"#f0f921\"]],\"diverging\":[[0,\"#8e0152\"],[0.1,\"#c51b7d\"],[0.2,\"#de77ae\"],[0.3,\"#f1b6da\"],[0.4,\"#fde0ef\"],[0.5,\"#f7f7f7\"],[0.6,\"#e6f5d0\"],[0.7,\"#b8e186\"],[0.8,\"#7fbc41\"],[0.9,\"#4d9221\"],[1,\"#276419\"]]},\"xaxis\":{\"gridcolor\":\"white\",\"linecolor\":\"white\",\"ticks\":\"\",\"title\":{\"standoff\":15},\"zerolinecolor\":\"white\",\"automargin\":true,\"zerolinewidth\":2},\"yaxis\":{\"gridcolor\":\"white\",\"linecolor\":\"white\",\"ticks\":\"\",\"title\":{\"standoff\":15},\"zerolinecolor\":\"white\",\"automargin\":true,\"zerolinewidth\":2},\"scene\":{\"xaxis\":{\"backgroundcolor\":\"#E5ECF6\",\"gridcolor\":\"white\",\"linecolor\":\"white\",\"showbackground\":true,\"ticks\":\"\",\"zerolinecolor\":\"white\",\"gridwidth\":2},\"yaxis\":{\"backgroundcolor\":\"#E5ECF6\",\"gridcolor\":\"white\",\"linecolor\":\"white\",\"showbackground\":true,\"ticks\":\"\",\"zerolinecolor\":\"white\",\"gridwidth\":2},\"zaxis\":{\"backgroundcolor\":\"#E5ECF6\",\"gridcolor\":\"white\",\"linecolor\":\"white\",\"showbackground\":true,\"ticks\":\"\",\"zerolinecolor\":\"white\",\"gridwidth\":2}},\"shapedefaults\":{\"line\":{\"color\":\"#2a3f5f\"}},\"annotationdefaults\":{\"arrowcolor\":\"#2a3f5f\",\"arrowhead\":0,\"arrowwidth\":1},\"geo\":{\"bgcolor\":\"white\",\"landcolor\":\"#E5ECF6\",\"subunitcolor\":\"white\",\"showland\":true,\"showlakes\":true,\"lakecolor\":\"white\"},\"title\":{\"x\":0.05},\"mapbox\":{\"style\":\"light\"}}},\"updatemenus\":[{\"buttons\":[{\"args\":[[{\"visible\":[]}],{\"title\":\"State: geoId\\u002f01\"}],\"label\":\"geoId\\u002f01\",\"method\":\"update\"},{\"args\":[[{\"visible\":[]}],{\"title\":\"State: geoId\\u002f02\"}],\"label\":\"geoId\\u002f02\",\"method\":\"update\"},{\"args\":[[{\"visible\":[]}],{\"title\":\"State: geoId\\u002f03\"}],\"label\":\"geoId\\u002f03\",\"method\":\"update\"},{\"args\":[[{\"visible\":[]}],{\"title\":\"State: geoId\\u002f04\"}],\"label\":\"geoId\\u002f04\",\"method\":\"update\"},{\"args\":[[{\"visible\":[]}],{\"title\":\"State: geoId\\u002f05\"}],\"label\":\"geoId\\u002f05\",\"method\":\"update\"},{\"args\":[[{\"visible\":[]}],{\"title\":\"State: geoId\\u002f06\"}],\"label\":\"geoId\\u002f06\",\"method\":\"update\"}],\"direction\":\"down\",\"showactive\":true,\"x\":0.1,\"xanchor\":\"left\",\"y\":1.1,\"yanchor\":\"top\"},{\"buttons\":[{\"args\":[[{\"visible\":[]}],{\"title\":\"Year: 2020\"}],\"label\":\"2020\",\"method\":\"update\"},{\"args\":[[{\"visible\":[]}],{\"title\":\"Year: 2021\"}],\"label\":\"2021\",\"method\":\"update\"}],\"direction\":\"down\",\"showactive\":true,\"x\":0.3,\"xanchor\":\"left\",\"y\":1.1,\"yanchor\":\"top\"}],\"title\":{\"text\":\"State: geoId\\u002f01, Year: 2020\"},\"xaxis\":{\"title\":{\"text\":\"State\"}},\"yaxis\":{\"title\":{\"text\":\"Value\"}},\"barmode\":\"group\"},                        {\"responsive\": true}                    ).then(function(){\n",
              "                            \n",
              "var gd = document.getElementById('7409caad-c179-4a91-80d8-24e47f47be52');\n",
              "var x = new MutationObserver(function (mutations, observer) {{\n",
              "        var display = window.getComputedStyle(gd).display;\n",
              "        if (!display || display === 'none') {{\n",
              "            console.log([gd, 'removed!']);\n",
              "            Plotly.purge(gd);\n",
              "            observer.disconnect();\n",
              "        }}\n",
              "}});\n",
              "\n",
              "// Listen for the removal of the full notebook cells\n",
              "var notebookContainer = gd.closest('#notebook-container');\n",
              "if (notebookContainer) {{\n",
              "    x.observe(notebookContainer, {childList: true});\n",
              "}}\n",
              "\n",
              "// Listen for the clearing of the current output cell\n",
              "var outputEl = gd.closest('.output');\n",
              "if (outputEl) {{\n",
              "    x.observe(outputEl, {childList: true});\n",
              "}}\n",
              "\n",
              "                        })                };                            </script>        </div>\n",
              "</body>\n",
              "</html>"
            ]
          },
          "metadata": {}
        }
      ]
    },
    {
      "cell_type": "code",
      "source": [
        "import pandas as pd\n",
        "import plotly.graph_objects as go\n",
        "\n",
        "# Sample DataFrame\n",
        "data = {\n",
        "    'State': ['geoId/01', 'geoId/02', 'geoId/03', 'geoId/04', 'geoId/05', 'geoId/06'],\n",
        "    'Year': [2020, 2020, 2020, 2020, 2021, 2020],\n",
        "    'Annual_Emissions_CarbonDioxide_Biogenic': [100, 200, 150, 300, 250, 400],\n",
        "    'Annual_Emissions_CarbonDioxide_NonBiogenic': [90, 180, 140, 290, 230, 380],\n",
        "    'Count_Person': [5000000, 700000, 1000000, 400000, 3000000, 2500000],\n",
        "    'Nearby_Places': [['geoId/02', 'geoId/03', 'geoId/04', 'geoId/05', 'geoId/06'],\n",
        "                      ['geoId/01', 'geoId/03', 'geoId/04'],\n",
        "                      ['geoId/01', 'geoId/02', 'geoId/04', 'geoId/05', 'geoId/06'],\n",
        "                      ['geoId/01', 'geoId/02', 'geoId/03', 'geoId/05', 'geoId/06'],\n",
        "                      ['geoId/01', 'geoId/02', 'geoId/03', 'geoId/04', 'geoId/06'],\n",
        "                      ['geoId/01', 'geoId/02', 'geoId/03', 'geoId/04', 'geoId/05']],\n",
        "    'Name': ['[alabama]', '[alaska]', '[arizona]', '[arkansas]', '[california]', '[colorado]']\n",
        "}\n",
        "data_plot  = pd.DataFrame(data)\n",
        "\n",
        "# Function to create the interactive plot\n",
        "def create_plotly_visualization(df):\n",
        "    states = df['State'].unique()\n",
        "    years = df['Year'].unique()\n",
        "\n",
        "    # Initialize figure\n",
        "    fig = go.Figure()\n",
        "\n",
        "    # Add traces for each state and year\n",
        "    for state in states:\n",
        "        for year in years:\n",
        "            filtered_df = df[(df['State'] == state) & (df['Year'] == year)]\n",
        "            if not filtered_df.empty:\n",
        "                nearby_places = filtered_df['Nearby_Places'].values[0]\n",
        "                nearby_df = df[(df['State'].isin(nearby_places)) & (df['Year'] == year)]\n",
        "                combined_df = pd.concat([filtered_df, nearby_df])\n",
        "\n",
        "                fig.add_trace(\n",
        "                    go.Bar(\n",
        "                        x=combined_df['Name'],\n",
        "                        y=combined_df['Annual_Emissions_CarbonDioxide_NonBiogenic'],\n",
        "                        name=f\"{state} {year} CO2 NB Biogenic per capita\",\n",
        "                        visible=False\n",
        "                    )\n",
        "                )\n",
        "\n",
        "                fig.add_trace(\n",
        "                    go.Bar(\n",
        "                        x=combined_df['Name'],\n",
        "                        y=combined_df['Annual_Emissions_CarbonDioxide_Biogenic'],\n",
        "                        name=f\"{state} {year} Biogenic CO2 per capita\",\n",
        "                        visible=False\n",
        "                    )\n",
        "                )\n",
        "\n",
        "    # Set the initial visibility\n",
        "    initial_state = states[0]\n",
        "    initial_year = years[0]\n",
        "    for trace in fig.data:\n",
        "        if initial_state in trace.name and str(initial_year) in trace.name:\n",
        "            trace.visible = True\n",
        "\n",
        "    # Add dropdowns\n",
        "    state_buttons = [\n",
        "        {\n",
        "            'method': 'update',\n",
        "            'label': state,\n",
        "            'args': [\n",
        "                [{'visible': [state in trace.name for trace in fig.data]}],\n",
        "                {'title': f\"State: {state}, Year: {initial_year}\"}\n",
        "            ]\n",
        "        } for state in states\n",
        "    ]\n",
        "\n",
        "    year_buttons = [\n",
        "        {\n",
        "            'method': 'update',\n",
        "            'label': str(year),\n",
        "            'args': [\n",
        "                [{'visible': [str(year) in trace.name for trace in fig.data]}],\n",
        "                {'title': f\"State: {initial_state}, Year: {year}\"}\n",
        "            ]\n",
        "        } for year in years\n",
        "    ]\n",
        "\n",
        "    fig.update_layout(\n",
        "        updatemenus=[\n",
        "            {\n",
        "                'buttons': state_buttons,\n",
        "                'direction': 'down',\n",
        "                'showactive': True,\n",
        "                'x': 0.1,\n",
        "                'xanchor': 'left',\n",
        "                'y': 1.1,\n",
        "                'yanchor': 'top'\n",
        "            },\n",
        "            {\n",
        "                'buttons': year_buttons,\n",
        "                'direction': 'down',\n",
        "                'showactive': True,\n",
        "                'x': 0.3,\n",
        "                'xanchor': 'left',\n",
        "                'y': 1.1,\n",
        "                'yanchor': 'top'\n",
        "            }\n",
        "        ],\n",
        "        title=f\"State: {initial_state}, Year: {initial_year}\",\n",
        "        xaxis_title=\"State\",\n",
        "        yaxis_title=\"Value\",\n",
        "        barmode='group'\n",
        "    )\n",
        "\n",
        "    return fig\n",
        "\n",
        "# Create the plot\n",
        "fig = create_plotly_visualization(data_plot)\n",
        "\n",
        "# Show the plot\n",
        "fig.show()\n"
      ],
      "metadata": {
        "id": "AvZQ5StUkn7k",
        "outputId": "aded2988-bead-4b43-c545-fbe5d2eec7cb",
        "colab": {
          "base_uri": "https://localhost:8080/",
          "height": 542
        }
      },
      "execution_count": null,
      "outputs": [
        {
          "output_type": "display_data",
          "data": {
            "text/html": [
              "<html>\n",
              "<head><meta charset=\"utf-8\" /></head>\n",
              "<body>\n",
              "    <div>            <script src=\"https://cdnjs.cloudflare.com/ajax/libs/mathjax/2.7.5/MathJax.js?config=TeX-AMS-MML_SVG\"></script><script type=\"text/javascript\">if (window.MathJax && window.MathJax.Hub && window.MathJax.Hub.Config) {window.MathJax.Hub.Config({SVG: {font: \"STIX-Web\"}});}</script>                <script type=\"text/javascript\">window.PlotlyConfig = {MathJaxConfig: 'local'};</script>\n",
              "        <script charset=\"utf-8\" src=\"https://cdn.plot.ly/plotly-2.24.1.min.js\"></script>                <div id=\"a04b44e9-4d19-4417-a36a-a47d1b1fe70e\" class=\"plotly-graph-div\" style=\"height:525px; width:100%;\"></div>            <script type=\"text/javascript\">                                    window.PLOTLYENV=window.PLOTLYENV || {};                                    if (document.getElementById(\"a04b44e9-4d19-4417-a36a-a47d1b1fe70e\")) {                    Plotly.newPlot(                        \"a04b44e9-4d19-4417-a36a-a47d1b1fe70e\",                        [{\"name\":\"geoId\\u002f01 2020 CO2 NB Biogenic per capita\",\"visible\":true,\"x\":[\"[alabama]\",\"[alaska]\",\"[arizona]\",\"[arkansas]\",\"[colorado]\"],\"y\":[90,180,140,290,380],\"type\":\"bar\"},{\"name\":\"geoId\\u002f01 2020 Biogenic CO2 per capita\",\"visible\":true,\"x\":[\"[alabama]\",\"[alaska]\",\"[arizona]\",\"[arkansas]\",\"[colorado]\"],\"y\":[100,200,150,300,400],\"type\":\"bar\"},{\"name\":\"geoId\\u002f02 2020 CO2 NB Biogenic per capita\",\"visible\":false,\"x\":[\"[alaska]\",\"[alabama]\",\"[arizona]\",\"[arkansas]\"],\"y\":[180,90,140,290],\"type\":\"bar\"},{\"name\":\"geoId\\u002f02 2020 Biogenic CO2 per capita\",\"visible\":false,\"x\":[\"[alaska]\",\"[alabama]\",\"[arizona]\",\"[arkansas]\"],\"y\":[200,100,150,300],\"type\":\"bar\"},{\"name\":\"geoId\\u002f03 2020 CO2 NB Biogenic per capita\",\"visible\":false,\"x\":[\"[arizona]\",\"[alabama]\",\"[alaska]\",\"[arkansas]\",\"[colorado]\"],\"y\":[140,90,180,290,380],\"type\":\"bar\"},{\"name\":\"geoId\\u002f03 2020 Biogenic CO2 per capita\",\"visible\":false,\"x\":[\"[arizona]\",\"[alabama]\",\"[alaska]\",\"[arkansas]\",\"[colorado]\"],\"y\":[150,100,200,300,400],\"type\":\"bar\"},{\"name\":\"geoId\\u002f04 2020 CO2 NB Biogenic per capita\",\"visible\":false,\"x\":[\"[arkansas]\",\"[alabama]\",\"[alaska]\",\"[arizona]\",\"[colorado]\"],\"y\":[290,90,180,140,380],\"type\":\"bar\"},{\"name\":\"geoId\\u002f04 2020 Biogenic CO2 per capita\",\"visible\":false,\"x\":[\"[arkansas]\",\"[alabama]\",\"[alaska]\",\"[arizona]\",\"[colorado]\"],\"y\":[300,100,200,150,400],\"type\":\"bar\"},{\"name\":\"geoId\\u002f05 2021 CO2 NB Biogenic per capita\",\"visible\":false,\"x\":[\"[california]\"],\"y\":[230],\"type\":\"bar\"},{\"name\":\"geoId\\u002f05 2021 Biogenic CO2 per capita\",\"visible\":false,\"x\":[\"[california]\"],\"y\":[250],\"type\":\"bar\"},{\"name\":\"geoId\\u002f06 2020 CO2 NB Biogenic per capita\",\"visible\":false,\"x\":[\"[colorado]\",\"[alabama]\",\"[alaska]\",\"[arizona]\",\"[arkansas]\"],\"y\":[380,90,180,140,290],\"type\":\"bar\"},{\"name\":\"geoId\\u002f06 2020 Biogenic CO2 per capita\",\"visible\":false,\"x\":[\"[colorado]\",\"[alabama]\",\"[alaska]\",\"[arizona]\",\"[arkansas]\"],\"y\":[400,100,200,150,300],\"type\":\"bar\"}],                        {\"template\":{\"data\":{\"histogram2dcontour\":[{\"type\":\"histogram2dcontour\",\"colorbar\":{\"outlinewidth\":0,\"ticks\":\"\"},\"colorscale\":[[0.0,\"#0d0887\"],[0.1111111111111111,\"#46039f\"],[0.2222222222222222,\"#7201a8\"],[0.3333333333333333,\"#9c179e\"],[0.4444444444444444,\"#bd3786\"],[0.5555555555555556,\"#d8576b\"],[0.6666666666666666,\"#ed7953\"],[0.7777777777777778,\"#fb9f3a\"],[0.8888888888888888,\"#fdca26\"],[1.0,\"#f0f921\"]]}],\"choropleth\":[{\"type\":\"choropleth\",\"colorbar\":{\"outlinewidth\":0,\"ticks\":\"\"}}],\"histogram2d\":[{\"type\":\"histogram2d\",\"colorbar\":{\"outlinewidth\":0,\"ticks\":\"\"},\"colorscale\":[[0.0,\"#0d0887\"],[0.1111111111111111,\"#46039f\"],[0.2222222222222222,\"#7201a8\"],[0.3333333333333333,\"#9c179e\"],[0.4444444444444444,\"#bd3786\"],[0.5555555555555556,\"#d8576b\"],[0.6666666666666666,\"#ed7953\"],[0.7777777777777778,\"#fb9f3a\"],[0.8888888888888888,\"#fdca26\"],[1.0,\"#f0f921\"]]}],\"heatmap\":[{\"type\":\"heatmap\",\"colorbar\":{\"outlinewidth\":0,\"ticks\":\"\"},\"colorscale\":[[0.0,\"#0d0887\"],[0.1111111111111111,\"#46039f\"],[0.2222222222222222,\"#7201a8\"],[0.3333333333333333,\"#9c179e\"],[0.4444444444444444,\"#bd3786\"],[0.5555555555555556,\"#d8576b\"],[0.6666666666666666,\"#ed7953\"],[0.7777777777777778,\"#fb9f3a\"],[0.8888888888888888,\"#fdca26\"],[1.0,\"#f0f921\"]]}],\"heatmapgl\":[{\"type\":\"heatmapgl\",\"colorbar\":{\"outlinewidth\":0,\"ticks\":\"\"},\"colorscale\":[[0.0,\"#0d0887\"],[0.1111111111111111,\"#46039f\"],[0.2222222222222222,\"#7201a8\"],[0.3333333333333333,\"#9c179e\"],[0.4444444444444444,\"#bd3786\"],[0.5555555555555556,\"#d8576b\"],[0.6666666666666666,\"#ed7953\"],[0.7777777777777778,\"#fb9f3a\"],[0.8888888888888888,\"#fdca26\"],[1.0,\"#f0f921\"]]}],\"contourcarpet\":[{\"type\":\"contourcarpet\",\"colorbar\":{\"outlinewidth\":0,\"ticks\":\"\"}}],\"contour\":[{\"type\":\"contour\",\"colorbar\":{\"outlinewidth\":0,\"ticks\":\"\"},\"colorscale\":[[0.0,\"#0d0887\"],[0.1111111111111111,\"#46039f\"],[0.2222222222222222,\"#7201a8\"],[0.3333333333333333,\"#9c179e\"],[0.4444444444444444,\"#bd3786\"],[0.5555555555555556,\"#d8576b\"],[0.6666666666666666,\"#ed7953\"],[0.7777777777777778,\"#fb9f3a\"],[0.8888888888888888,\"#fdca26\"],[1.0,\"#f0f921\"]]}],\"surface\":[{\"type\":\"surface\",\"colorbar\":{\"outlinewidth\":0,\"ticks\":\"\"},\"colorscale\":[[0.0,\"#0d0887\"],[0.1111111111111111,\"#46039f\"],[0.2222222222222222,\"#7201a8\"],[0.3333333333333333,\"#9c179e\"],[0.4444444444444444,\"#bd3786\"],[0.5555555555555556,\"#d8576b\"],[0.6666666666666666,\"#ed7953\"],[0.7777777777777778,\"#fb9f3a\"],[0.8888888888888888,\"#fdca26\"],[1.0,\"#f0f921\"]]}],\"mesh3d\":[{\"type\":\"mesh3d\",\"colorbar\":{\"outlinewidth\":0,\"ticks\":\"\"}}],\"scatter\":[{\"fillpattern\":{\"fillmode\":\"overlay\",\"size\":10,\"solidity\":0.2},\"type\":\"scatter\"}],\"parcoords\":[{\"type\":\"parcoords\",\"line\":{\"colorbar\":{\"outlinewidth\":0,\"ticks\":\"\"}}}],\"scatterpolargl\":[{\"type\":\"scatterpolargl\",\"marker\":{\"colorbar\":{\"outlinewidth\":0,\"ticks\":\"\"}}}],\"bar\":[{\"error_x\":{\"color\":\"#2a3f5f\"},\"error_y\":{\"color\":\"#2a3f5f\"},\"marker\":{\"line\":{\"color\":\"#E5ECF6\",\"width\":0.5},\"pattern\":{\"fillmode\":\"overlay\",\"size\":10,\"solidity\":0.2}},\"type\":\"bar\"}],\"scattergeo\":[{\"type\":\"scattergeo\",\"marker\":{\"colorbar\":{\"outlinewidth\":0,\"ticks\":\"\"}}}],\"scatterpolar\":[{\"type\":\"scatterpolar\",\"marker\":{\"colorbar\":{\"outlinewidth\":0,\"ticks\":\"\"}}}],\"histogram\":[{\"marker\":{\"pattern\":{\"fillmode\":\"overlay\",\"size\":10,\"solidity\":0.2}},\"type\":\"histogram\"}],\"scattergl\":[{\"type\":\"scattergl\",\"marker\":{\"colorbar\":{\"outlinewidth\":0,\"ticks\":\"\"}}}],\"scatter3d\":[{\"type\":\"scatter3d\",\"line\":{\"colorbar\":{\"outlinewidth\":0,\"ticks\":\"\"}},\"marker\":{\"colorbar\":{\"outlinewidth\":0,\"ticks\":\"\"}}}],\"scattermapbox\":[{\"type\":\"scattermapbox\",\"marker\":{\"colorbar\":{\"outlinewidth\":0,\"ticks\":\"\"}}}],\"scatterternary\":[{\"type\":\"scatterternary\",\"marker\":{\"colorbar\":{\"outlinewidth\":0,\"ticks\":\"\"}}}],\"scattercarpet\":[{\"type\":\"scattercarpet\",\"marker\":{\"colorbar\":{\"outlinewidth\":0,\"ticks\":\"\"}}}],\"carpet\":[{\"aaxis\":{\"endlinecolor\":\"#2a3f5f\",\"gridcolor\":\"white\",\"linecolor\":\"white\",\"minorgridcolor\":\"white\",\"startlinecolor\":\"#2a3f5f\"},\"baxis\":{\"endlinecolor\":\"#2a3f5f\",\"gridcolor\":\"white\",\"linecolor\":\"white\",\"minorgridcolor\":\"white\",\"startlinecolor\":\"#2a3f5f\"},\"type\":\"carpet\"}],\"table\":[{\"cells\":{\"fill\":{\"color\":\"#EBF0F8\"},\"line\":{\"color\":\"white\"}},\"header\":{\"fill\":{\"color\":\"#C8D4E3\"},\"line\":{\"color\":\"white\"}},\"type\":\"table\"}],\"barpolar\":[{\"marker\":{\"line\":{\"color\":\"#E5ECF6\",\"width\":0.5},\"pattern\":{\"fillmode\":\"overlay\",\"size\":10,\"solidity\":0.2}},\"type\":\"barpolar\"}],\"pie\":[{\"automargin\":true,\"type\":\"pie\"}]},\"layout\":{\"autotypenumbers\":\"strict\",\"colorway\":[\"#636efa\",\"#EF553B\",\"#00cc96\",\"#ab63fa\",\"#FFA15A\",\"#19d3f3\",\"#FF6692\",\"#B6E880\",\"#FF97FF\",\"#FECB52\"],\"font\":{\"color\":\"#2a3f5f\"},\"hovermode\":\"closest\",\"hoverlabel\":{\"align\":\"left\"},\"paper_bgcolor\":\"white\",\"plot_bgcolor\":\"#E5ECF6\",\"polar\":{\"bgcolor\":\"#E5ECF6\",\"angularaxis\":{\"gridcolor\":\"white\",\"linecolor\":\"white\",\"ticks\":\"\"},\"radialaxis\":{\"gridcolor\":\"white\",\"linecolor\":\"white\",\"ticks\":\"\"}},\"ternary\":{\"bgcolor\":\"#E5ECF6\",\"aaxis\":{\"gridcolor\":\"white\",\"linecolor\":\"white\",\"ticks\":\"\"},\"baxis\":{\"gridcolor\":\"white\",\"linecolor\":\"white\",\"ticks\":\"\"},\"caxis\":{\"gridcolor\":\"white\",\"linecolor\":\"white\",\"ticks\":\"\"}},\"coloraxis\":{\"colorbar\":{\"outlinewidth\":0,\"ticks\":\"\"}},\"colorscale\":{\"sequential\":[[0.0,\"#0d0887\"],[0.1111111111111111,\"#46039f\"],[0.2222222222222222,\"#7201a8\"],[0.3333333333333333,\"#9c179e\"],[0.4444444444444444,\"#bd3786\"],[0.5555555555555556,\"#d8576b\"],[0.6666666666666666,\"#ed7953\"],[0.7777777777777778,\"#fb9f3a\"],[0.8888888888888888,\"#fdca26\"],[1.0,\"#f0f921\"]],\"sequentialminus\":[[0.0,\"#0d0887\"],[0.1111111111111111,\"#46039f\"],[0.2222222222222222,\"#7201a8\"],[0.3333333333333333,\"#9c179e\"],[0.4444444444444444,\"#bd3786\"],[0.5555555555555556,\"#d8576b\"],[0.6666666666666666,\"#ed7953\"],[0.7777777777777778,\"#fb9f3a\"],[0.8888888888888888,\"#fdca26\"],[1.0,\"#f0f921\"]],\"diverging\":[[0,\"#8e0152\"],[0.1,\"#c51b7d\"],[0.2,\"#de77ae\"],[0.3,\"#f1b6da\"],[0.4,\"#fde0ef\"],[0.5,\"#f7f7f7\"],[0.6,\"#e6f5d0\"],[0.7,\"#b8e186\"],[0.8,\"#7fbc41\"],[0.9,\"#4d9221\"],[1,\"#276419\"]]},\"xaxis\":{\"gridcolor\":\"white\",\"linecolor\":\"white\",\"ticks\":\"\",\"title\":{\"standoff\":15},\"zerolinecolor\":\"white\",\"automargin\":true,\"zerolinewidth\":2},\"yaxis\":{\"gridcolor\":\"white\",\"linecolor\":\"white\",\"ticks\":\"\",\"title\":{\"standoff\":15},\"zerolinecolor\":\"white\",\"automargin\":true,\"zerolinewidth\":2},\"scene\":{\"xaxis\":{\"backgroundcolor\":\"#E5ECF6\",\"gridcolor\":\"white\",\"linecolor\":\"white\",\"showbackground\":true,\"ticks\":\"\",\"zerolinecolor\":\"white\",\"gridwidth\":2},\"yaxis\":{\"backgroundcolor\":\"#E5ECF6\",\"gridcolor\":\"white\",\"linecolor\":\"white\",\"showbackground\":true,\"ticks\":\"\",\"zerolinecolor\":\"white\",\"gridwidth\":2},\"zaxis\":{\"backgroundcolor\":\"#E5ECF6\",\"gridcolor\":\"white\",\"linecolor\":\"white\",\"showbackground\":true,\"ticks\":\"\",\"zerolinecolor\":\"white\",\"gridwidth\":2}},\"shapedefaults\":{\"line\":{\"color\":\"#2a3f5f\"}},\"annotationdefaults\":{\"arrowcolor\":\"#2a3f5f\",\"arrowhead\":0,\"arrowwidth\":1},\"geo\":{\"bgcolor\":\"white\",\"landcolor\":\"#E5ECF6\",\"subunitcolor\":\"white\",\"showland\":true,\"showlakes\":true,\"lakecolor\":\"white\"},\"title\":{\"x\":0.05},\"mapbox\":{\"style\":\"light\"}}},\"updatemenus\":[{\"buttons\":[{\"args\":[[{\"visible\":[true,true,false,false,false,false,false,false,false,false,false,false]}],{\"title\":\"State: geoId\\u002f01, Year: 2020\"}],\"label\":\"geoId\\u002f01\",\"method\":\"update\"},{\"args\":[[{\"visible\":[false,false,true,true,false,false,false,false,false,false,false,false]}],{\"title\":\"State: geoId\\u002f02, Year: 2020\"}],\"label\":\"geoId\\u002f02\",\"method\":\"update\"},{\"args\":[[{\"visible\":[false,false,false,false,true,true,false,false,false,false,false,false]}],{\"title\":\"State: geoId\\u002f03, Year: 2020\"}],\"label\":\"geoId\\u002f03\",\"method\":\"update\"},{\"args\":[[{\"visible\":[false,false,false,false,false,false,true,true,false,false,false,false]}],{\"title\":\"State: geoId\\u002f04, Year: 2020\"}],\"label\":\"geoId\\u002f04\",\"method\":\"update\"},{\"args\":[[{\"visible\":[false,false,false,false,false,false,false,false,true,true,false,false]}],{\"title\":\"State: geoId\\u002f05, Year: 2020\"}],\"label\":\"geoId\\u002f05\",\"method\":\"update\"},{\"args\":[[{\"visible\":[false,false,false,false,false,false,false,false,false,false,true,true]}],{\"title\":\"State: geoId\\u002f06, Year: 2020\"}],\"label\":\"geoId\\u002f06\",\"method\":\"update\"}],\"direction\":\"down\",\"showactive\":true,\"x\":0.1,\"xanchor\":\"left\",\"y\":1.1,\"yanchor\":\"top\"},{\"buttons\":[{\"args\":[[{\"visible\":[true,true,true,true,true,true,true,true,false,false,true,true]}],{\"title\":\"State: geoId\\u002f01, Year: 2020\"}],\"label\":\"2020\",\"method\":\"update\"},{\"args\":[[{\"visible\":[false,false,false,false,false,false,false,false,true,true,false,false]}],{\"title\":\"State: geoId\\u002f01, Year: 2021\"}],\"label\":\"2021\",\"method\":\"update\"}],\"direction\":\"down\",\"showactive\":true,\"x\":0.3,\"xanchor\":\"left\",\"y\":1.1,\"yanchor\":\"top\"}],\"title\":{\"text\":\"State: geoId\\u002f01, Year: 2020\"},\"xaxis\":{\"title\":{\"text\":\"State\"}},\"yaxis\":{\"title\":{\"text\":\"Value\"}},\"barmode\":\"group\"},                        {\"responsive\": true}                    ).then(function(){\n",
              "                            \n",
              "var gd = document.getElementById('a04b44e9-4d19-4417-a36a-a47d1b1fe70e');\n",
              "var x = new MutationObserver(function (mutations, observer) {{\n",
              "        var display = window.getComputedStyle(gd).display;\n",
              "        if (!display || display === 'none') {{\n",
              "            console.log([gd, 'removed!']);\n",
              "            Plotly.purge(gd);\n",
              "            observer.disconnect();\n",
              "        }}\n",
              "}});\n",
              "\n",
              "// Listen for the removal of the full notebook cells\n",
              "var notebookContainer = gd.closest('#notebook-container');\n",
              "if (notebookContainer) {{\n",
              "    x.observe(notebookContainer, {childList: true});\n",
              "}}\n",
              "\n",
              "// Listen for the clearing of the current output cell\n",
              "var outputEl = gd.closest('.output');\n",
              "if (outputEl) {{\n",
              "    x.observe(outputEl, {childList: true});\n",
              "}}\n",
              "\n",
              "                        })                };                            </script>        </div>\n",
              "</body>\n",
              "</html>"
            ]
          },
          "metadata": {}
        }
      ]
    }
  ]
}